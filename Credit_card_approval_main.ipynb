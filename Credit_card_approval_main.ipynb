{
 "cells": [
  {
   "cell_type": "code",
   "execution_count": 81,
   "metadata": {},
   "outputs": [],
   "source": [
    "import pandas as pd\n",
    "import numpy as np\n",
    "from matplotlib import pyplot\n",
    "\n",
    "from sklearn.preprocessing import LabelEncoder, MinMaxScaler\n",
    "from sklearn.model_selection import train_test_split, GridSearchCV\n",
    "from sklearn.linear_model import LogisticRegression, LinearRegression\n",
    "from sklearn.metrics import confusion_matrix, accuracy_score\n",
    "from sklearn.feature_selection import SelectKBest, f_classif\n",
    "from sklearn.tree import DecisionTreeClassifier\n",
    "from sklearn.ensemble import RandomForestClassifier, AdaBoostClassifier\n",
    "from xgboost import XGBClassifier, DMatrix, train\n",
    "from sklearn.neighbors import KNeighborsClassifier\n",
    "from sklearn.inspection import permutation_importance"
   ]
  },
  {
   "cell_type": "markdown",
   "metadata": {},
   "source": [
    "# Import Data"
   ]
  },
  {
   "cell_type": "markdown",
   "metadata": {},
   "source": [
    "1. Import data.\n",
    "2. Print DataFrame information.\n",
    "3. The missing values labeled as '?' will be replaced by NaN.\n",
    "4. Check how many missing values in each column."
   ]
  },
  {
   "cell_type": "code",
   "execution_count": 82,
   "metadata": {
    "dc": {
     "key": "3"
    },
    "tags": [
     "sample_code"
    ]
   },
   "outputs": [
    {
     "name": "stdout",
     "output_type": "stream",
     "text": [
      "<class 'pandas.core.frame.DataFrame'>\n",
      "RangeIndex: 690 entries, 0 to 689\n",
      "Data columns (total 16 columns):\n",
      " #   Column  Non-Null Count  Dtype  \n",
      "---  ------  --------------  -----  \n",
      " 0   0       690 non-null    object \n",
      " 1   1       690 non-null    object \n",
      " 2   2       690 non-null    float64\n",
      " 3   3       690 non-null    object \n",
      " 4   4       690 non-null    object \n",
      " 5   5       690 non-null    object \n",
      " 6   6       690 non-null    object \n",
      " 7   7       690 non-null    float64\n",
      " 8   8       690 non-null    object \n",
      " 9   9       690 non-null    object \n",
      " 10  10      690 non-null    int64  \n",
      " 11  11      690 non-null    object \n",
      " 12  12      690 non-null    object \n",
      " 13  13      690 non-null    object \n",
      " 14  14      690 non-null    int64  \n",
      " 15  15      690 non-null    object \n",
      "dtypes: float64(2), int64(2), object(12)\n",
      "memory usage: 86.4+ KB\n",
      "None\n",
      "\n",
      "Number of missing values in each column:\n",
      "0     12\n",
      "1     12\n",
      "2      0\n",
      "3      6\n",
      "4      6\n",
      "5      9\n",
      "6      9\n",
      "7      0\n",
      "8      0\n",
      "9      0\n",
      "10     0\n",
      "11     0\n",
      "12     0\n",
      "13    13\n",
      "14     0\n",
      "15     0\n",
      "dtype: int64\n"
     ]
    }
   ],
   "source": [
    "cc_apps = pd.read_csv(\"datasets/cc_approvals.data\", header=None)\n",
    "print(cc_apps.info())\n",
    "cc_apps = cc_apps.replace('?', np.nan)\n",
    "print('\\nNumber of missing values in each column:')\n",
    "print(cc_apps.isnull().sum())"
   ]
  },
  {
   "cell_type": "markdown",
   "metadata": {},
   "source": [
    "Handling of missing data:\n",
    "    1. Impute the missing numeric values with mean imputation.\n",
    "    2. Impute the missing non-numeric values with the most frequent value in the respective column.\n",
    "    3. Check if there is any missing value."
   ]
  },
  {
   "cell_type": "code",
   "execution_count": 83,
   "metadata": {},
   "outputs": [
    {
     "name": "stdout",
     "output_type": "stream",
     "text": [
      "0     0\n",
      "1     0\n",
      "2     0\n",
      "3     0\n",
      "4     0\n",
      "5     0\n",
      "6     0\n",
      "7     0\n",
      "8     0\n",
      "9     0\n",
      "10    0\n",
      "11    0\n",
      "12    0\n",
      "13    0\n",
      "14    0\n",
      "15    0\n",
      "dtype: int64\n"
     ]
    }
   ],
   "source": [
    "cc_apps.fillna(cc_apps.mean(), inplace=True)\n",
    "\n",
    "for col in cc_apps.columns:\n",
    "    if cc_apps[col].dtypes == 'object':\n",
    "        cc_apps = cc_apps.fillna(cc_apps[col].value_counts().index[0])\n",
    "\n",
    "print(cc_apps.isnull().sum())"
   ]
  },
  {
   "cell_type": "markdown",
   "metadata": {},
   "source": [
    "Preprocessing:\n",
    "    1. Convert the non-numeric data into numeric.\n",
    "    2. Drop unnecessary features.\n",
    "    3. Separate variables from result column.\n",
    "    4. Split the data into test and train data, a ratio of 1:2.\n",
    "    5. Rescale X_train and X_test to values from 0 to 1."
   ]
  },
  {
   "cell_type": "code",
   "execution_count": 84,
   "metadata": {},
   "outputs": [],
   "source": [
    "le=LabelEncoder()\n",
    "\n",
    "for col in cc_apps.columns.to_numpy():\n",
    "    if cc_apps[col].dtypes=='object':\n",
    "        cc_apps[col]=le.fit_transform(cc_apps[col])\n",
    "        \n",
    "\n",
    "X = cc_apps.iloc[:,0:15]\n",
    "y = cc_apps.iloc[:,15]\n",
    "\n",
    "X_train, X_test, y_train, y_test = train_test_split(X, y, test_size=0.33, random_state=42)\n",
    "\n",
    "scaler = MinMaxScaler(feature_range=(0, 1))\n",
    "X_train = scaler.fit_transform(X_train)\n",
    "X_test = scaler.transform(X_test)"
   ]
  },
  {
   "cell_type": "markdown",
   "metadata": {},
   "source": [
    "# Feature Selection"
   ]
  },
  {
   "cell_type": "markdown",
   "metadata": {},
   "source": [
    "Select the best features based on ANOVA F-value."
   ]
  },
  {
   "cell_type": "code",
   "execution_count": 85,
   "metadata": {},
   "outputs": [
    {
     "name": "stdout",
     "output_type": "stream",
     "text": [
      "Feature: 0, Score: 0.4\n",
      "Feature: 1, Score: 11.5\n",
      "Feature: 2, Score: 16.4\n",
      "Feature: 3, Score: 18.3\n",
      "Feature: 4, Score: 18.4\n",
      "Feature: 5, Score: 6.7\n",
      "Feature: 6, Score: 0.0\n",
      "Feature: 7, Score: 57.1\n",
      "Feature: 8, Score: 530.5\n",
      "Feature: 9, Score: 120.2\n",
      "Feature: 10, Score: 86.8\n",
      "Feature: 11, Score: 2.8\n",
      "Feature: 12, Score: 6.2\n",
      "Feature: 13, Score: 1.1\n",
      "Feature: 14, Score: 14.1\n"
     ]
    },
    {
     "data": {
      "image/png": "[encoded data removed]",
      "text/plain": [
       "<Figure size 432x288 with 1 Axes>"
      ]
     },
     "metadata": {
      "needs_background": "light"
     },
     "output_type": "display_data"
    }
   ],
   "source": [
    "test = SelectKBest(score_func=f_classif, k=15)\n",
    "fitscores = test.fit(X_train, y_train)\n",
    "importance = fitscores.scores_\n",
    "\n",
    "for i,v in enumerate(importance):\n",
    "    print('Feature: %0d, Score: %.1f' % (i,v))\n",
    "    \n",
    "pyplot.bar([x for x in range(len(importance))], importance)\n",
    "pyplot.show()"
   ]
  },
  {
   "cell_type": "markdown",
   "metadata": {},
   "source": [
    "A Linear Regression model is fitted on the dataset and the coefficients calculated for each input variable is retrieved. These coefficients can provide the basis for a crude feature importance score."
   ]
  },
  {
   "cell_type": "code",
   "execution_count": 86,
   "metadata": {},
   "outputs": [
    {
     "name": "stdout",
     "output_type": "stream",
     "text": [
      "Feature: 0, Score: 0.0\n",
      "Feature: 1, Score: -0.1\n",
      "Feature: 2, Score: 0.1\n",
      "Feature: 3, Score: 1.3\n",
      "Feature: 4, Score: -0.6\n",
      "Feature: 5, Score: -0.1\n",
      "Feature: 6, Score: -0.1\n",
      "Feature: 7, Score: -0.3\n",
      "Feature: 8, Score: -0.6\n",
      "Feature: 9, Score: -0.1\n",
      "Feature: 10, Score: -0.4\n",
      "Feature: 11, Score: 0.0\n",
      "Feature: 12, Score: 0.1\n",
      "Feature: 13, Score: 0.0\n",
      "Feature: 14, Score: -0.7\n"
     ]
    },
    {
     "data": {
      "image/png": "[encoded data removed]",
      "text/plain": [
       "<Figure size 432x288 with 1 Axes>"
      ]
     },
     "metadata": {
      "needs_background": "light"
     },
     "output_type": "display_data"
    }
   ],
   "source": [
    "LRmodel = LinearRegression()\n",
    "LRmodel.fit(X_train, y_train)\n",
    "importance = LRmodel.coef_\n",
    "\n",
    "for i,v in enumerate(importance):\n",
    "    print('Feature: %0d, Score: %.1f' % (i,v))\n",
    "    \n",
    "pyplot.bar([x for x in range(len(importance))], importance)\n",
    "pyplot.show()"
   ]
  },
  {
   "cell_type": "markdown",
   "metadata": {},
   "source": [
    "A Logistic Regression model is fitted on the dataset and the coefficients calculated for each input variable is retrieved. These coefficients can provide the basis for a crude feature importance score."
   ]
  },
  {
   "cell_type": "code",
   "execution_count": 87,
   "metadata": {},
   "outputs": [
    {
     "name": "stdout",
     "output_type": "stream",
     "text": [
      "Feature: 0, Score: 0.0\n",
      "Feature: 1, Score: -0.4\n",
      "Feature: 2, Score: -0.1\n",
      "Feature: 3, Score: 1.9\n",
      "Feature: 4, Score: 0.2\n",
      "Feature: 5, Score: -0.4\n",
      "Feature: 6, Score: -0.2\n",
      "Feature: 7, Score: -1.1\n",
      "Feature: 8, Score: -3.4\n",
      "Feature: 9, Score: -1.0\n",
      "Feature: 10, Score: -0.6\n",
      "Feature: 11, Score: 0.2\n",
      "Feature: 12, Score: 0.0\n",
      "Feature: 13, Score: -0.4\n",
      "Feature: 14, Score: -1.2\n"
     ]
    },
    {
     "data": {
      "image/png": "[encoded data removed]",
      "text/plain": [
       "<Figure size 432x288 with 1 Axes>"
      ]
     },
     "metadata": {
      "needs_background": "light"
     },
     "output_type": "display_data"
    }
   ],
   "source": [
    "LogRegmodel = LogisticRegression(solver='lbfgs', max_iter=10000)\n",
    "\n",
    "LogRegmodel.fit(X_train, y_train)\n",
    "\n",
    "importance = LogRegmodel.coef_[0]\n",
    "\n",
    "for i,v in enumerate(importance):\n",
    "    print('Feature: %0d, Score: %.1f' % (i,v))\n",
    "\n",
    "pyplot.bar([x for x in range(len(importance))], importance)\n",
    "pyplot.show()\n"
   ]
  },
  {
   "cell_type": "markdown",
   "metadata": {},
   "source": [
    "Select the best features using the Decision Tree Classifier model."
   ]
  },
  {
   "cell_type": "code",
   "execution_count": 88,
   "metadata": {
    "scrolled": false
   },
   "outputs": [
    {
     "name": "stdout",
     "output_type": "stream",
     "text": [
      "Feature: 0, Score: 0.01\n",
      "Feature: 1, Score: 0.05\n",
      "Feature: 2, Score: 0.07\n",
      "Feature: 3, Score: 0.03\n",
      "Feature: 4, Score: 0.01\n",
      "Feature: 5, Score: 0.04\n",
      "Feature: 6, Score: 0.03\n",
      "Feature: 7, Score: 0.04\n",
      "Feature: 8, Score: 0.54\n",
      "Feature: 9, Score: 0.05\n",
      "Feature: 10, Score: 0.00\n",
      "Feature: 11, Score: 0.01\n",
      "Feature: 12, Score: 0.00\n",
      "Feature: 13, Score: 0.09\n",
      "Feature: 14, Score: 0.04\n"
     ]
    },
    {
     "data": {
      "image/png": "[encoded data removed]",
      "text/plain": [
       "<Figure size 432x288 with 1 Axes>"
      ]
     },
     "metadata": {
      "needs_background": "light"
     },
     "output_type": "display_data"
    }
   ],
   "source": [
    "DTCmodel = DecisionTreeClassifier()\n",
    "DTCmodel.fit(X_train, y_train)\n",
    "importance = DTCmodel.feature_importances_\n",
    "\n",
    "for i,v in enumerate(importance):\n",
    "    print('Feature: %0d, Score: %.2f' % (i,v))\n",
    "\n",
    "pyplot.bar([x for x in range(len(importance))], importance)\n",
    "pyplot.show()"
   ]
  },
  {
   "cell_type": "markdown",
   "metadata": {},
   "source": [
    "Select the best features using the Random Forest model."
   ]
  },
  {
   "cell_type": "code",
   "execution_count": 89,
   "metadata": {},
   "outputs": [
    {
     "name": "stdout",
     "output_type": "stream",
     "text": [
      "Feature: 0, Score: 0.013\n",
      "Feature: 1, Score: 0.078\n",
      "Feature: 2, Score: 0.084\n",
      "Feature: 3, Score: 0.014\n",
      "Feature: 4, Score: 0.015\n",
      "Feature: 5, Score: 0.057\n",
      "Feature: 6, Score: 0.029\n",
      "Feature: 7, Score: 0.105\n",
      "Feature: 8, Score: 0.288\n",
      "Feature: 9, Score: 0.058\n",
      "Feature: 10, Score: 0.084\n",
      "Feature: 11, Score: 0.012\n",
      "Feature: 12, Score: 0.010\n",
      "Feature: 13, Score: 0.075\n",
      "Feature: 14, Score: 0.078\n"
     ]
    },
    {
     "data": {
      "image/png": "[encoded data removed]",
      "text/plain": [
       "<Figure size 432x288 with 1 Axes>"
      ]
     },
     "metadata": {
      "needs_background": "light"
     },
     "output_type": "display_data"
    }
   ],
   "source": [
    "RFCmodel = RandomForestClassifier()\n",
    "RFCmodel.fit(X_train, y_train)\n",
    "importance = RFCmodel.feature_importances_\n",
    "\n",
    "for i,v in enumerate(importance):\n",
    "    print('Feature: %0d, Score: %.3f' % (i,v))\n",
    "    \n",
    "pyplot.bar([x for x in range(len(importance))], importance)\n",
    "pyplot.show()"
   ]
  },
  {
   "cell_type": "markdown",
   "metadata": {},
   "source": [
    "Select the best features using the XGBoost model."
   ]
  },
  {
   "cell_type": "code",
   "execution_count": 90,
   "metadata": {},
   "outputs": [
    {
     "name": "stdout",
     "output_type": "stream",
     "text": [
      "Feature: 0, Score: 0.042\n",
      "Feature: 1, Score: 0.021\n",
      "Feature: 2, Score: 0.035\n",
      "Feature: 3, Score: 0.030\n",
      "Feature: 4, Score: 0.000\n",
      "Feature: 5, Score: 0.029\n",
      "Feature: 6, Score: 0.026\n",
      "Feature: 7, Score: 0.034\n",
      "Feature: 8, Score: 0.563\n",
      "Feature: 9, Score: 0.065\n",
      "Feature: 10, Score: 0.044\n",
      "Feature: 11, Score: 0.018\n",
      "Feature: 12, Score: 0.000\n",
      "Feature: 13, Score: 0.046\n",
      "Feature: 14, Score: 0.048\n"
     ]
    },
    {
     "data": {
      "image/png": "[encoded data removed]",
      "text/plain": [
       "<Figure size 432x288 with 1 Axes>"
      ]
     },
     "metadata": {
      "needs_background": "light"
     },
     "output_type": "display_data"
    }
   ],
   "source": [
    "XGBmodel = XGBClassifier(learning_rate=0.1, max_depth = 10, min_child_weight = 4, gamma = 0.26, subsample=1,\n",
    "                         scale_pos_weight=0.9, objective='binary:logistic', eval_metric = \"logloss\",use_label_encoder=False)\n",
    "\n",
    "XGBmodel.fit(X_train, y_train)\n",
    "importance = XGBmodel.feature_importances_\n",
    "\n",
    "for i,v in enumerate(importance):\n",
    "    print('Feature: %0d, Score: %.3f' % (i,v))\n",
    "    \n",
    "pyplot.bar([x for x in range(len(importance))], importance)\n",
    "pyplot.show()"
   ]
  },
  {
   "cell_type": "markdown",
   "metadata": {},
   "source": [
    "Select the best features using the KNN model."
   ]
  },
  {
   "cell_type": "code",
   "execution_count": 91,
   "metadata": {},
   "outputs": [
    {
     "name": "stdout",
     "output_type": "stream",
     "text": [
      "Feature: 0, Score: 0.01169\n",
      "Feature: 1, Score: -0.00043\n",
      "Feature: 2, Score: -0.00476\n",
      "Feature: 3, Score: 0.00043\n",
      "Feature: 4, Score: -0.00130\n",
      "Feature: 5, Score: 0.00519\n",
      "Feature: 6, Score: 0.00087\n",
      "Feature: 7, Score: 0.00346\n",
      "Feature: 8, Score: 0.28571\n",
      "Feature: 9, Score: 0.04632\n",
      "Feature: 10, Score: 0.00000\n",
      "Feature: 11, Score: 0.00130\n",
      "Feature: 12, Score: -0.00433\n",
      "Feature: 13, Score: -0.00087\n",
      "Feature: 14, Score: 0.00000\n"
     ]
    },
    {
     "data": {
      "image/png": "[encoded data removed]",
      "text/plain": [
       "<Figure size 432x288 with 1 Axes>"
      ]
     },
     "metadata": {
      "needs_background": "light"
     },
     "output_type": "display_data"
    }
   ],
   "source": [
    "KNNmodel = KNeighborsClassifier()\n",
    "KNNmodel.fit(X_train, y_train)\n",
    "\n",
    "results = permutation_importance(KNNmodel, X_train, y_train, scoring='accuracy')\n",
    "importance = results.importances_mean\n",
    "\n",
    "for i,v in enumerate(importance):\n",
    "    print('Feature: %0d, Score: %.5f' % (i,v))\n",
    "\n",
    "pyplot.bar([x for x in range(len(importance))], importance)\n",
    "pyplot.show()"
   ]
  },
  {
   "cell_type": "markdown",
   "metadata": {},
   "source": [
    "Perform the train-test split again"
   ]
  },
  {
   "cell_type": "code",
   "execution_count": 92,
   "metadata": {},
   "outputs": [],
   "source": [
    "X = cc_apps.iloc[:,0:15]\n",
    "X = X[[2, 4, 7, 8, 9, 10, 14]] \n",
    "y = cc_apps.iloc[:,15]\n",
    "\n",
    "X_train, X_test, y_train, y_test = train_test_split(X, y, test_size=0.33, random_state=42)\n",
    "\n",
    "scaler = MinMaxScaler(feature_range=(0, 1))\n",
    "X_train = scaler.fit_transform(X_train)\n",
    "X_test = scaler.transform(X_test)"
   ]
  },
  {
   "cell_type": "markdown",
   "metadata": {},
   "source": [
    "\n",
    "# Logistic Regression"
   ]
  },
  {
   "cell_type": "markdown",
   "metadata": {},
   "source": [
    "Perform a grid search of the logistic regression model parameters to calculate the best parameters:"
   ]
  },
  {
   "cell_type": "code",
   "execution_count": 93,
   "metadata": {},
   "outputs": [
    {
     "name": "stdout",
     "output_type": "stream",
     "text": [
      "Best: 0.865802 using {'max_iter': 100, 'tol': 0.1}\n"
     ]
    }
   ],
   "source": [
    "tol = [0.1, 0.01, 0.001 ,0.0001, 0.00001]\n",
    "max_iter = [i for i in range(100,10001,100)]\n",
    "\n",
    "param_grid = dict(tol=tol, max_iter=max_iter)\n",
    "\n",
    "logreg = LogisticRegression()\n",
    "grid_model = GridSearchCV(estimator=logreg, param_grid=param_grid, cv=5)\n",
    "\n",
    "grid_model_result = grid_model.fit(X_train, y_train)\n",
    "\n",
    "best_score, best_params = grid_model_result.best_score_, grid_model_result.best_params_\n",
    "print(\"Best: %f using %s\" % (best_score, best_params))"
   ]
  },
  {
   "cell_type": "markdown",
   "metadata": {},
   "source": [
    "Perform a logistic regression with the best set of parameters."
   ]
  },
  {
   "cell_type": "code",
   "execution_count": 94,
   "metadata": {},
   "outputs": [],
   "source": [
    "logreg = LogisticRegression(tol=0.1, max_iter=100)\n",
    "logreg.fit(X_train,y_train)\n",
    "y_pred = logreg.predict(X_test)"
   ]
  },
  {
   "cell_type": "markdown",
   "metadata": {},
   "source": [
    "Evaluate the performance of the model."
   ]
  },
  {
   "cell_type": "code",
   "execution_count": 95,
   "metadata": {},
   "outputs": [
    {
     "name": "stdout",
     "output_type": "stream",
     "text": [
      "Accuracy:  0.8377192982456141\n"
     ]
    }
   ],
   "source": [
    "print(\"Accuracy: \", accuracy_score(y_test, y_pred ))"
   ]
  },
  {
   "cell_type": "markdown",
   "metadata": {},
   "source": [
    "# Random Forest Classifier"
   ]
  },
  {
   "cell_type": "code",
   "execution_count": 96,
   "metadata": {},
   "outputs": [],
   "source": [
    "max_features = [2,3,4,5,6,7]\n",
    "min_samples_leaf = [2,3,4,5,6]\n",
    "max_depth = [8,9,10,11,12,13,14,15,16,17]\n",
    "column_names = ['max_features', 'min_samples_leaf', 'max_depth', 'Score']\n",
    "results = pd.DataFrame(columns = column_names)\n",
    "\n",
    "\n",
    "for i in max_features:\n",
    "    for j in min_samples_leaf:\n",
    "        for k in max_depth:\n",
    "            clf = RandomForestClassifier(n_estimators= 100, max_depth = k, min_samples_leaf = j, max_features = i)\n",
    "            clf.fit(X_train, y_train)\n",
    "            Y_predTest = clf.predict(X_train)\n",
    "            Score = accuracy_score(y_train, Y_predTest)\n",
    "            data = pd.Series({'max_features' : i, 'min_samples_leaf' : j, 'max_depth' : k, 'Score' : Score})\n",
    "            results = results.append(data, ignore_index=True)\n",
    "    "
   ]
  },
  {
   "cell_type": "code",
   "execution_count": 97,
   "metadata": {},
   "outputs": [
    {
     "name": "stdout",
     "output_type": "stream",
     "text": [
      "max_features         7.000000\n",
      "min_samples_leaf     2.000000\n",
      "max_depth           13.000000\n",
      "Score                0.969697\n",
      "Name: 255, dtype: float64\n"
     ]
    }
   ],
   "source": [
    "results.sort_values(by='Score', ascending=False, inplace= True)\n",
    "print(results.iloc[0])"
   ]
  },
  {
   "cell_type": "code",
   "execution_count": 98,
   "metadata": {},
   "outputs": [],
   "source": [
    "clf = RandomForestClassifier(n_estimators= 100, max_depth = 11, min_samples_leaf = 2, max_features = 7)\n",
    "clf.fit(X_train,y_train)\n",
    "y_pred = clf.predict(X_test)"
   ]
  },
  {
   "cell_type": "code",
   "execution_count": 99,
   "metadata": {},
   "outputs": [
    {
     "name": "stdout",
     "output_type": "stream",
     "text": [
      "Accuracy:  0.8596491228070176\n"
     ]
    }
   ],
   "source": [
    "print(\"Accuracy: \", accuracy_score(y_test, y_pred ))"
   ]
  },
  {
   "cell_type": "markdown",
   "metadata": {},
   "source": [
    "# KNN"
   ]
  },
  {
   "cell_type": "code",
   "execution_count": 100,
   "metadata": {},
   "outputs": [
    {
     "name": "stdout",
     "output_type": "stream",
     "text": [
      "Fitting 5 folds for each of 60 candidates, totalling 300 fits\n"
     ]
    },
    {
     "name": "stderr",
     "output_type": "stream",
     "text": [
      "[Parallel(n_jobs=4)]: Using backend LokyBackend with 4 concurrent workers.\n",
      "[Parallel(n_jobs=4)]: Done  68 tasks      | elapsed:    2.9s\n"
     ]
    },
    {
     "name": "stdout",
     "output_type": "stream",
     "text": [
      "Best: 0.863628 using {'metric': 'euclidean', 'n_neighbors': 15, 'weights': 'distance'}\n"
     ]
    },
    {
     "name": "stderr",
     "output_type": "stream",
     "text": [
      "[Parallel(n_jobs=4)]: Done 300 out of 300 | elapsed:    3.4s finished\n"
     ]
    }
   ],
   "source": [
    "params= {\n",
    "    'n_neighbors' : list(range(1, 16)),\n",
    "    'weights' : ['uniform', 'distance'],\n",
    "    'metric' : ['euclidean', 'manhattan']\n",
    "}    \n",
    "\n",
    "grid = GridSearchCV(KNeighborsClassifier(), params, verbose=1, cv=5, n_jobs=4, scoring='accuracy')\n",
    "\n",
    "grid_model_result = grid.fit(X_train, y_train)\n",
    "\n",
    "best_score, best_params, best_estimator = grid_model_result.best_score_, grid_model_result.best_params_, grid_model_result.best_estimator_\n",
    "print(\"Best: %f using %s\" % (best_score, best_params))\n"
   ]
  },
  {
   "cell_type": "code",
   "execution_count": 101,
   "metadata": {},
   "outputs": [],
   "source": [
    "KNN = KNeighborsClassifier(metric='manhattan', n_neighbors= 8, weights='uniform')\n",
    "KNN.fit(X_train,y_train)\n",
    "y_pred = KNN.predict(X_test)"
   ]
  },
  {
   "cell_type": "code",
   "execution_count": 102,
   "metadata": {},
   "outputs": [
    {
     "name": "stdout",
     "output_type": "stream",
     "text": [
      "Accuracy:  0.8552631578947368\n"
     ]
    }
   ],
   "source": [
    "print(\"Accuracy: \", accuracy_score(y_test, y_pred ))"
   ]
  },
  {
   "cell_type": "markdown",
   "metadata": {},
   "source": [
    "# Adaboost"
   ]
  },
  {
   "cell_type": "code",
   "execution_count": 103,
   "metadata": {},
   "outputs": [
    {
     "name": "stderr",
     "output_type": "stream",
     "text": [
      "[Parallel(n_jobs=4)]: Using backend LokyBackend with 4 concurrent workers.\n"
     ]
    },
    {
     "name": "stdout",
     "output_type": "stream",
     "text": [
      "Fitting 5 folds for each of 20 candidates, totalling 100 fits\n"
     ]
    },
    {
     "name": "stderr",
     "output_type": "stream",
     "text": [
      "[Parallel(n_jobs=4)]: Done  66 tasks      | elapsed:    7.0s\n"
     ]
    },
    {
     "name": "stdout",
     "output_type": "stream",
     "text": [
      "Best: 0.861454 using {'learning_rate': 0.0001, 'n_estimators': 10}\n"
     ]
    },
    {
     "name": "stderr",
     "output_type": "stream",
     "text": [
      "[Parallel(n_jobs=4)]: Done 100 out of 100 | elapsed:   12.5s finished\n"
     ]
    }
   ],
   "source": [
    "params= {\n",
    "    'n_estimators' : [10, 50, 100, 500],\n",
    "    'learning_rate' : [0.0001, 0.001, 0.01, 0.1, 1.0]\n",
    "}    \n",
    "\n",
    "ADB = AdaBoostClassifier()\n",
    "grid = GridSearchCV(ADB, params, verbose=1, cv=5, n_jobs=4, scoring='accuracy')\n",
    "\n",
    "grid_model_result = grid.fit(X_train, y_train)\n",
    "\n",
    "best_score, best_params = grid_model_result.best_score_, grid_model_result.best_params_\n",
    "print(\"Best: %f using %s\" % (best_score, best_params))\n"
   ]
  },
  {
   "cell_type": "code",
   "execution_count": 109,
   "metadata": {},
   "outputs": [],
   "source": [
    "ADB = AdaBoostClassifier(n_estimators=100,learning_rate=0.0001)\n",
    "ADB.fit(X_train,y_train)\n",
    "y_pred = ADB.predict(X_test)"
   ]
  },
  {
   "cell_type": "code",
   "execution_count": 110,
   "metadata": {},
   "outputs": [
    {
     "name": "stdout",
     "output_type": "stream",
     "text": [
      "Accuracy:  0.8421052631578947\n"
     ]
    }
   ],
   "source": [
    "print(\"Accuracy: \", accuracy_score(y_test, y_pred))"
   ]
  },
  {
   "cell_type": "markdown",
   "metadata": {},
   "source": [
    "# XGBoost"
   ]
  },
  {
   "cell_type": "code",
   "execution_count": 106,
   "metadata": {},
   "outputs": [
    {
     "name": "stdout",
     "output_type": "stream",
     "text": [
      "[19:37:08] WARNING: C:/Users/Administrator/workspace/xgboost-win64_release_1.4.0/src/learner.cc:1095: Starting in XGBoost 1.3.0, the default evaluation metric used with the objective 'binary:logistic' was changed from 'error' to 'logloss'. Explicitly set eval_metric if you'd like to restore the old behavior.\n",
      "Best: -0.321472 using {'colsample_bytree': 0.3, 'eta': 0.2, 'gamma': 0.4, 'max_depth': 3, 'min_child_weight': 5}\n"
     ]
    }
   ],
   "source": [
    "XGBmodel = XGBClassifier(use_label_encoder=False)\n",
    "parameters = {\n",
    "     \"eta\"    : [0.05, 0.10, 0.15, 0.20, 0.25, 0.30 ] ,\n",
    "     \"max_depth\"        : [ 3, 4, 5, 6, 8, 10, 12, 15],\n",
    "     \"min_child_weight\" : [ 1, 3, 5, 7 ],\n",
    "     \"gamma\"            : [ 0.0, 0.1, 0.2 , 0.3, 0.4 ],\n",
    "     \"colsample_bytree\" : [ 0.3, 0.4, 0.5 , 0.7 ]\n",
    "     }\n",
    "grid = GridSearchCV(XGBmodel, parameters, n_jobs=4, scoring=\"neg_log_loss\", cv=3)\n",
    "grid_model_result = grid.fit(X_train, y_train)\n",
    "\n",
    "best_score, best_params = grid_model_result.best_score_, grid_model_result.best_params_\n",
    "print(\"Best: %f using %s\" % (best_score, best_params))"
   ]
  },
  {
   "cell_type": "code",
   "execution_count": 107,
   "metadata": {},
   "outputs": [
    {
     "name": "stdout",
     "output_type": "stream",
     "text": [
      "[19:37:08] WARNING: C:/Users/Administrator/workspace/xgboost-win64_release_1.4.0/src/learner.cc:1095: Starting in XGBoost 1.3.0, the default evaluation metric used with the objective 'binary:logistic' was changed from 'error' to 'logloss'. Explicitly set eval_metric if you'd like to restore the old behavior.\n"
     ]
    },
    {
     "name": "stderr",
     "output_type": "stream",
     "text": [
      "C:\\Users\\Jhumka Abdoulaye\\anaconda3\\lib\\site-packages\\xgboost\\sklearn.py:1146: UserWarning: The use of label encoder in XGBClassifier is deprecated and will be removed in a future release. To remove this warning, do the following: 1) Pass option use_label_encoder=False when constructing XGBClassifier object; and 2) Encode your labels (y) as integers starting with 0, i.e. 0, 1, 2, ..., [num_class - 1].\n",
      "  warnings.warn(label_encoder_deprecation_msg, UserWarning)\n"
     ]
    }
   ],
   "source": [
    "XGB = XGBClassifier(colsample_bytree=0.3, eta=0.25, gamma=0, max_depth=4, min_child_weight=7)\n",
    "XGB.fit(X_train,y_train)\n",
    "y_pred = XGB.predict(X_test)"
   ]
  },
  {
   "cell_type": "code",
   "execution_count": 108,
   "metadata": {},
   "outputs": [
    {
     "name": "stdout",
     "output_type": "stream",
     "text": [
      "Accuracy:  0.8464912280701754\n"
     ]
    }
   ],
   "source": [
    "print(\"Accuracy: \", accuracy_score(y_test, y_pred ))"
   ]
  },
  {
   "cell_type": "code",
   "execution_count": null,
   "metadata": {},
   "outputs": [],
   "source": []
  }
 ],
 "metadata": {
  "kernelspec": {
   "display_name": "Python 3",
   "language": "python",
   "name": "python3"
  },
  "language_info": {
   "codemirror_mode": {
    "name": "ipython",
    "version": 3
   },
   "file_extension": ".py",
   "mimetype": "text/x-python",
   "name": "python",
   "nbconvert_exporter": "python",
   "pygments_lexer": "ipython3",
   "version": "3.8.3"
  }
 },
 "nbformat": 4,
 "nbformat_minor": 2
}
